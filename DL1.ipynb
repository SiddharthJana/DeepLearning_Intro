{
  "nbformat": 4,
  "nbformat_minor": 0,
  "metadata": {
    "colab": {
      "provenance": []
    },
    "kernelspec": {
      "name": "python3",
      "display_name": "Python 3"
    },
    "language_info": {
      "name": "python"
    }
  },
  "cells": [
    {
      "cell_type": "code",
      "execution_count": 3,
      "metadata": {
        "id": "W0ru_NfY9D0v"
      },
      "outputs": [],
      "source": [
        "#Feedforward Neural Network\n",
        "import numpy as np"
      ]
    },
    {
      "cell_type": "code",
      "source": [
        "import numpy as np\n",
        "\n",
        "class FeedForwardNN:\n",
        "    def __init__(self, input_size, hidden_size, output_size):\n",
        "        self.W1 = np.random.randn(input_size, hidden_size)\n",
        "        self.W2 = np.random.randn(hidden_size, output_size)\n",
        "\n",
        "    def sigmoid(self, s):\n",
        "        return 1 / (1 + np.exp(-s))\n",
        "\n",
        "    def sigmoid_derivative(self, s):\n",
        "        return s * (1 - s)\n",
        "\n",
        "    def forward(self, X):\n",
        "        self.z2 = self.sigmoid(np.dot(X, self.W1))\n",
        "        return self.sigmoid(np.dot(self.z2, self.W2))\n",
        "\n",
        "    def backward(self, X, y, o):\n",
        "        o_error = y - o\n",
        "        o_delta = o_error * self.sigmoid_derivative(o)\n",
        "        z2_error = o_delta.dot(self.W2.T)\n",
        "        z2_delta = z2_error * self.sigmoid_derivative(self.z2)\n",
        "        self.W1 += X.T.dot(z2_delta)\n",
        "        self.W2 += self.z2.T.dot(o_delta)\n",
        "\n",
        "    def train(self, X, y, iterations=10000):\n",
        "        for _ in range(iterations):\n",
        "            o = self.forward(X)\n",
        "            self.backward(X, y, o)\n",
        "\n",
        "# Example usage\n",
        "X = np.array([[0,0], [0,1], [1,0], [1,1]])\n",
        "y = np.array([[0], [1], [1], [0]])\n",
        "\n",
        "nn = FeedForwardNN(2, 3, 1)\n",
        "nn.train(X, y)\n",
        "\n",
        "print(nn.forward(X))\n"
      ],
      "metadata": {
        "colab": {
          "base_uri": "https://localhost:8080/"
        },
        "id": "MG_X0U679uck",
        "outputId": "2b0caf1a-dc82-448b-a084-21b7bd83698e"
      },
      "execution_count": 4,
      "outputs": [
        {
          "output_type": "stream",
          "name": "stdout",
          "text": [
            "[[0.0214928 ]\n",
            " [0.98098912]\n",
            " [0.98100381]\n",
            " [0.50028998]]\n"
          ]
        }
      ]
    },
    {
      "cell_type": "code",
      "source": [
        "#Convolutional Neaural Networks\n",
        "import tensorflow as tf\n",
        "from tensorflow.keras.layers import Conv2D, MaxPooling2D, Flatten, Dense, Dropout"
      ],
      "metadata": {
        "id": "QY8nH9JT9N3D"
      },
      "execution_count": 5,
      "outputs": []
    },
    {
      "cell_type": "code",
      "source": [
        "model = tf.keras.Sequential([\n",
        "    Conv2D(32, (3, 3), activation='relu', input_shape=(28, 28, 1)),\n",
        "    MaxPooling2D((2, 2)),\n",
        "    Conv2D(64, (3, 3), activation='relu'),\n",
        "    MaxPooling2D((2, 2)),\n",
        "    Flatten(),\n",
        "    Dense(64, activation='relu'),\n",
        "    Dense(10, activation='softmax')])\n",
        "model.compile(optimizer='adam', loss='sparse_categorical_crossentropy', metrics=['accuracy'])"
      ],
      "metadata": {
        "id": "dAASpUb49f0u",
        "colab": {
          "base_uri": "https://localhost:8080/"
        },
        "outputId": "fe515e10-a8ef-43d3-af68-1b53779f4e41"
      },
      "execution_count": 6,
      "outputs": [
        {
          "output_type": "stream",
          "name": "stderr",
          "text": [
            "/usr/local/lib/python3.10/dist-packages/keras/src/layers/convolutional/base_conv.py:107: UserWarning: Do not pass an `input_shape`/`input_dim` argument to a layer. When using Sequential models, prefer using an `Input(shape)` object as the first layer in the model instead.\n",
            "  super().__init__(activity_regularizer=activity_regularizer, **kwargs)\n"
          ]
        }
      ]
    },
    {
      "cell_type": "code",
      "source": [
        "#ReLU Heuristics for Avoiding Bad Local Minima\n",
        "def relu(x):\n",
        "    return np.maximum(0, x)\n",
        "\n",
        "def relu_derivative(x):\n",
        "    return np.where(x > 0, 1, 0)"
      ],
      "metadata": {
        "id": "MoFGzKsD9nVW"
      },
      "execution_count": 7,
      "outputs": []
    },
    {
      "cell_type": "code",
      "source": [
        "# Nesterov Accelerated Gradient Descent\n",
        "class NAGOptimizer:\n",
        "    def __init__(self, lr=0.01, momentum=0.9):\n",
        "        self.lr = lr\n",
        "        self.momentum = momentum\n",
        "        self.v = 0\n",
        "\n",
        "    def update(self, w, grad_wrt_w):\n",
        "        self.v = self.momentum * self.v - self.lr * grad_wrt_w\n",
        "        w += self.momentum * self.v - self.lr * grad_wrt_w\n",
        "        return w"
      ],
      "metadata": {
        "id": "Kg4dgNn893bZ"
      },
      "execution_count": 8,
      "outputs": []
    },
    {
      "cell_type": "code",
      "source": [
        "#Regularization\n",
        "def l2_regularization(weights, lambda_reg=0.01):\n",
        "    return lambda_reg * np.sum(np.square(weights))"
      ],
      "metadata": {
        "id": "ZFWY_AYi968P"
      },
      "execution_count": 9,
      "outputs": []
    }
  ]
}